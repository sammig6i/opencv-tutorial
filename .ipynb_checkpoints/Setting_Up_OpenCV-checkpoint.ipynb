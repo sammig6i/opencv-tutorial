{
  "cells": [
    {
      "cell_type": "markdown",
      "metadata": {
        "id": "kVvRgHuF-JLm"
      },
      "source": [
        "# 1. Installing"
      ]
    },
    {
      "cell_type": "code",
      "execution_count": 3,
      "metadata": {
        "colab": {
          "base_uri": "https://localhost:8080/"
        },
        "id": "2r5BMDfS8xKC",
        "outputId": "a0479754-7c5d-4664-e85d-c49c8c8b400b"
      },
      "outputs": [
        {
          "name": "stdout",
          "output_type": "stream",
          "text": [
            "Channels:\n",
            " - defaults\n",
            " - conda-forge\n",
            "Platform: osx-64\n",
            "Collecting package metadata (repodata.json): done\n",
            "Solving environment: failed\n",
            "\n",
            "PackagesNotFoundError: The following packages are not available from current channels:\n",
            "\n",
            "  - opencv-python\n",
            "\n",
            "Current channels:\n",
            "\n",
            "  - defaults\n",
            "  - https://conda.anaconda.org/conda-forge/noarch\n",
            "  - https://conda.anaconda.org/conda-forge/osx-64\n",
            "\n",
            "To search for alternate channels that may provide the conda package you're\n",
            "looking for, navigate to\n",
            "\n",
            "    https://anaconda.org\n",
            "\n",
            "and use the search bar at the top of the page.\n",
            "\n",
            "\n",
            "\n",
            "Note: you may need to restart the kernel to use updated packages.\n"
          ]
        }
      ],
      "source": [
        "%conda install opencv-python"
      ]
    },
    {
      "cell_type": "code",
      "execution_count": 4,
      "metadata": {
        "id": "UyaTiMM39pOY"
      },
      "outputs": [
        {
          "name": "stdout",
          "output_type": "stream",
          "text": [
            "# packages in environment at /Users/samghazzawi/anaconda3/envs/opencv-tutorial:\n",
            "#\n",
            "# Name                    Version                   Build  Channel\n",
            "appnope                   0.1.4              pyhd8ed1ab_0    conda-forge\n",
            "asttokens                 2.4.1              pyhd8ed1ab_0    conda-forge\n",
            "bzip2                     1.0.8                h10d778d_5    conda-forge\n",
            "ca-certificates           2024.2.2             h8857fd0_0    conda-forge\n",
            "comm                      0.2.2              pyhd8ed1ab_0    conda-forge\n",
            "debugpy                   1.8.1           py312hede676d_0    conda-forge\n",
            "decorator                 5.1.1              pyhd8ed1ab_0    conda-forge\n",
            "exceptiongroup            1.2.0              pyhd8ed1ab_2    conda-forge\n",
            "executing                 2.0.1              pyhd8ed1ab_0    conda-forge\n",
            "importlib-metadata        7.0.2              pyha770c72_0    conda-forge\n",
            "importlib_metadata        7.0.2                hd8ed1ab_0    conda-forge\n",
            "ipykernel                 6.29.3             pyh3cd1d5f_0    conda-forge\n",
            "ipython                   8.22.2             pyh707e725_0    conda-forge\n",
            "jedi                      0.19.1             pyhd8ed1ab_0    conda-forge\n",
            "jupyter_client            8.6.1              pyhd8ed1ab_0    conda-forge\n",
            "jupyter_core              5.7.2           py312hb401068_0    conda-forge\n",
            "libcxx                    16.0.6               hd57cbcb_0    conda-forge\n",
            "libexpat                  2.6.2                h73e2aa4_0    conda-forge\n",
            "libffi                    3.4.2                h0d85af4_5    conda-forge\n",
            "libsodium                 1.0.18               hbcb3906_1    conda-forge\n",
            "libsqlite                 3.45.2               h92b6c6a_0    conda-forge\n",
            "libzlib                   1.2.13               h8a1eda9_5    conda-forge\n",
            "matplotlib-inline         0.1.6              pyhd8ed1ab_0    conda-forge\n",
            "ncurses                   6.4                  h93d8f39_2    conda-forge\n",
            "nest-asyncio              1.6.0              pyhd8ed1ab_0    conda-forge\n",
            "numpy                     1.26.4                   pypi_0    pypi\n",
            "opencv-python             4.9.0.80                 pypi_0    pypi\n",
            "openssl                   3.2.1                hd75f5a5_0    conda-forge\n",
            "packaging                 24.0               pyhd8ed1ab_0    conda-forge\n",
            "parso                     0.8.3              pyhd8ed1ab_0    conda-forge\n",
            "pexpect                   4.9.0              pyhd8ed1ab_0    conda-forge\n",
            "pickleshare               0.7.5                   py_1003    conda-forge\n",
            "pip                       24.0               pyhd8ed1ab_0    conda-forge\n",
            "platformdirs              4.2.0              pyhd8ed1ab_0    conda-forge\n",
            "prompt-toolkit            3.0.42             pyha770c72_0    conda-forge\n",
            "psutil                    5.9.8           py312h41838bb_0    conda-forge\n",
            "ptyprocess                0.7.0              pyhd3deb0d_0    conda-forge\n",
            "pure_eval                 0.2.2              pyhd8ed1ab_0    conda-forge\n",
            "pygments                  2.17.2             pyhd8ed1ab_0    conda-forge\n",
            "python                    3.12.2          h9f0c242_0_cpython    conda-forge\n",
            "python-dateutil           2.9.0              pyhd8ed1ab_0    conda-forge\n",
            "python_abi                3.12                    4_cp312    conda-forge\n",
            "pyzmq                     25.1.2          py312hc789acb_0    conda-forge\n",
            "readline                  8.2                  h9e318b2_1    conda-forge\n",
            "setuptools                69.2.0             pyhd8ed1ab_0    conda-forge\n",
            "six                       1.16.0             pyh6c4a22f_0    conda-forge\n",
            "stack_data                0.6.2              pyhd8ed1ab_0    conda-forge\n",
            "tk                        8.6.13               h1abcd95_1    conda-forge\n",
            "tornado                   6.4             py312h41838bb_0    conda-forge\n",
            "traitlets                 5.14.2             pyhd8ed1ab_0    conda-forge\n",
            "typing_extensions         4.10.0             pyha770c72_0    conda-forge\n",
            "tzdata                    2024a                h0c530f3_0    conda-forge\n",
            "wcwidth                   0.2.13             pyhd8ed1ab_0    conda-forge\n",
            "wheel                     0.42.0             pyhd8ed1ab_0    conda-forge\n",
            "xz                        5.2.6                h775f41a_0    conda-forge\n",
            "zeromq                    4.3.5                h93d8f39_0    conda-forge\n",
            "zipp                      3.17.0             pyhd8ed1ab_0    conda-forge\n"
          ]
        }
      ],
      "source": [
        "!conda list "
      ]
    },
    {
      "cell_type": "code",
      "execution_count": 1,
      "metadata": {
        "id": "z2BbblT_92r1"
      },
      "outputs": [],
      "source": [
        "import cv2"
      ]
    },
    {
      "cell_type": "code",
      "execution_count": 2,
      "metadata": {
        "id": "nd7pHtCY97gW"
      },
      "outputs": [
        {
          "data": {
            "text/plain": [
              "cv2.VideoCapture"
            ]
          },
          "execution_count": 2,
          "metadata": {},
          "output_type": "execute_result"
        }
      ],
      "source": [
        "cv2.VideoCapture"
      ]
    },
    {
      "cell_type": "markdown",
      "metadata": {
        "id": "7Slbr0cy-eD4"
      },
      "source": [
        "# 2. Test Samples"
      ]
    },
    {
      "cell_type": "code",
      "execution_count": null,
      "metadata": {
        "colab": {
          "base_uri": "https://localhost:8080/"
        },
        "id": "U-WqBNAV-haW",
        "outputId": "a7fc5cb3-b5dd-4780-a2f5-ee1e8ac1921b"
      },
      "outputs": [],
      "source": [
        "# histogram sample \n",
        "!cd /Users/samghazzawi/Desktop/opencv-tutorial/opencv-4.9.0/samples/python\n",
        " \n",
        "!python hist.py"
      ]
    },
    {
      "cell_type": "code",
      "execution_count": 20,
      "metadata": {},
      "outputs": [
        {
          "name": "stdout",
          "output_type": "stream",
          "text": [
            "\n",
            "example to show optical flow\n",
            "\n",
            "USAGE: opt_flow.py [<video_source>]\n",
            "\n",
            "Keys:\n",
            " 1 - toggle HSV flow visualization\n",
            " 2 - toggle glitch\n",
            "\n",
            "Keys:\n",
            "    ESC    - exit\n",
            "\n",
            "^C\n",
            "Traceback (most recent call last):\n",
            "  File \"/Users/samghazzawi/Desktop/opencv-tutorial/opencv-4.9.0/samples/python/opt_flow.py\", line 103, in <module>\n",
            "    main()\n",
            "  File \"/Users/samghazzawi/Desktop/opencv-tutorial/opencv-4.9.0/samples/python/opt_flow.py\", line 76, in main\n",
            "    flow = cv.calcOpticalFlowFarneback(prevgray, gray, None, 0.5, 3, 15, 3, 5, 1.2, 0)\n",
            "           ^^^^^^^^^^^^^^^^^^^^^^^^^^^^^^^^^^^^^^^^^^^^^^^^^^^^^^^^^^^^^^^^^^^^^^^^^^^\n",
            "KeyboardInterrupt\n"
          ]
        }
      ],
      "source": [
        "# optical flow sample\n",
        "!cd /Users/samghazzawi/Desktop/opencv-tutorial/opencv-4.9.0/samples/python\n",
        "\n",
        "!python opt_flow.py 0"
      ]
    }
  ],
  "metadata": {
    "colab": {
      "provenance": []
    },
    "kernelspec": {
      "display_name": "Python 3",
      "name": "python3"
    },
    "language_info": {
      "codemirror_mode": {
        "name": "ipython",
        "version": 3
      },
      "file_extension": ".py",
      "mimetype": "text/x-python",
      "name": "python",
      "nbconvert_exporter": "python",
      "pygments_lexer": "ipython3",
      "version": "3.12.2"
    }
  },
  "nbformat": 4,
  "nbformat_minor": 0
}
